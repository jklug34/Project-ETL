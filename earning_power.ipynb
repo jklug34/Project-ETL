{
 "cells": [
  {
   "cell_type": "markdown",
   "metadata": {},
   "source": [
    "# Merge two csv files to get earning_power.csv"
   ]
  },
  {
   "cell_type": "code",
   "execution_count": 1,
   "metadata": {},
   "outputs": [],
   "source": [
    "# import libraries and tools\n",
    "import pandas as pd\n",
    "import numpy as np"
   ]
  },
  {
   "cell_type": "markdown",
   "metadata": {},
   "source": [
    "assign and read in csv files for clean-up"
   ]
  },
  {
   "cell_type": "code",
   "execution_count": 2,
   "metadata": {},
   "outputs": [],
   "source": [
    "mod_all_data = \"Resources/Most_Recent_Cohorts_All_Data_Elements.csv\"\n",
    "\n",
    "all_data_df = pd.read_csv(mod_all_data, encoding='utf-8')"
   ]
  },
  {
   "cell_type": "code",
   "execution_count": 3,
   "metadata": {},
   "outputs": [],
   "source": [
    "educ_earnings_data = \"Resources/Most_Recent_Cohorts_Treasury_Elements.csv\"\n",
    "\n",
    "educ_earning_df = pd.read_csv(educ_earnings_data, encoding='utf-8')"
   ]
  },
  {
   "cell_type": "markdown",
   "metadata": {},
   "source": [
    "first data cleanup on \"all_data_df\" dataframe"
   ]
  },
  {
   "cell_type": "code",
   "execution_count": 4,
   "metadata": {},
   "outputs": [
    {
     "name": "stdout",
     "output_type": "stream",
     "text": [
      "Index(['UNITID', 'OPEID', 'OPEID6', 'INSTNM', 'CITY', 'STABBR', 'ZIP',\n",
      "       'INSTURL'],\n",
      "      dtype='object')\n"
     ]
    }
   ],
   "source": [
    "print(all_data_df.columns)"
   ]
  },
  {
   "cell_type": "code",
   "execution_count": 5,
   "metadata": {},
   "outputs": [],
   "source": [
    "col_mod = {'OPEID6':'ipeds_id',\n",
    "           'INSTNM':'college_name',\n",
    "           'CITY':'city',\n",
    "           'STABBR':'state',\n",
    "           'ZIP':'zip',\n",
    "           'INSTURL':'college_url'}\n",
    "\n",
    "all_data_df = all_data_df.rename(columns = col_mod)"
   ]
  },
  {
   "cell_type": "code",
   "execution_count": 6,
   "metadata": {},
   "outputs": [
    {
     "name": "stdout",
     "output_type": "stream",
     "text": [
      "Index(['UNITID', 'OPEID', 'ipeds_id', 'college_name', 'city', 'state', 'zip',\n",
      "       'college_url'],\n",
      "      dtype='object')\n"
     ]
    }
   ],
   "source": [
    "print(all_data_df.columns)"
   ]
  },
  {
   "cell_type": "code",
   "execution_count": 8,
   "metadata": {},
   "outputs": [
    {
     "name": "stdout",
     "output_type": "stream",
     "text": [
      "Index(['ipeds_id', 'college_name', 'city', 'state', 'zip', 'college_url'], dtype='object')\n"
     ]
    }
   ],
   "source": [
    "all_data_df = all_data_df.drop(all_data_df.columns[[0, 1]], axis=1)\n",
    "print(all_data_df.columns)"
   ]
  },
  {
   "cell_type": "markdown",
   "metadata": {},
   "source": [
    "second data cleanup on \"educ_earning_df\" dataframe"
   ]
  },
  {
   "cell_type": "code",
   "execution_count": null,
   "metadata": {},
   "outputs": [],
   "source": []
  }
 ],
 "metadata": {
  "kernelspec": {
   "display_name": "Python 3",
   "language": "python",
   "name": "python3"
  },
  "language_info": {
   "codemirror_mode": {
    "name": "ipython",
    "version": 3
   },
   "file_extension": ".py",
   "mimetype": "text/x-python",
   "name": "python",
   "nbconvert_exporter": "python",
   "pygments_lexer": "ipython3",
   "version": "3.6.8"
  }
 },
 "nbformat": 4,
 "nbformat_minor": 2
}
